{
 "cells": [
  {
   "cell_type": "code",
   "execution_count": 1,
   "metadata": {},
   "outputs": [],
   "source": [
    "%%capture\n",
    "!pip install tensorflow pandas tqdm pyyaml h5py"
   ]
  },
  {
   "cell_type": "code",
   "execution_count": 2,
   "metadata": {},
   "outputs": [],
   "source": [
    "import os\n",
    "import numpy as np\n",
    "import pandas as pd\n",
    "import tensorflow as tf\n",
    "from tqdm import tqdm\n",
    "from tensorboard.plugins.hparams import api as hp\n",
    "from sklearn.model_selection import train_test_split"
   ]
  },
  {
   "cell_type": "code",
   "execution_count": 3,
   "metadata": {},
   "outputs": [],
   "source": [
    "gpus = tf.config.experimental.list_physical_devices('GPU')\n",
    "try:\n",
    "    for gpu in gpus:\n",
    "        tf.config.experimental.set_memory_growth(gpu, True)\n",
    "except RuntimeError as e:\n",
    "    print(e)"
   ]
  },
  {
   "cell_type": "code",
   "execution_count": 4,
   "metadata": {},
   "outputs": [],
   "source": [
    "data = dict(np.load(\"./data/data_single_train.npz\"))"
   ]
  },
  {
   "cell_type": "code",
   "execution_count": 5,
   "metadata": {},
   "outputs": [],
   "source": [
    "L = tf.keras.layers"
   ]
  },
  {
   "cell_type": "code",
   "execution_count": 6,
   "metadata": {},
   "outputs": [],
   "source": [
    "def rmse(y_true, y_pred):\n",
    "    return tf.sqrt(tf.reduce_mean(tf.square(y_pred - y_true)))"
   ]
  },
  {
   "cell_type": "code",
   "execution_count": 7,
   "metadata": {},
   "outputs": [],
   "source": [
    "def R2(y_true, y_pred):\n",
    "    residual = tf.reduce_sum(tf.square(tf.subtract(y_true, y_pred)))\n",
    "    total = tf.reduce_sum(tf.square(tf.subtract(y_true, tf.reduce_mean(y_true))))\n",
    "    r2 = tf.subtract(1.0, tf.divide(residual, total))\n",
    "    return r2"
   ]
  },
  {
   "cell_type": "code",
   "execution_count": 8,
   "metadata": {},
   "outputs": [
    {
     "data": {
      "text/plain": [
       "<tf.Tensor: shape=(), dtype=bool, numpy=False>"
      ]
     },
     "execution_count": 8,
     "metadata": {},
     "output_type": "execute_result"
    }
   ],
   "source": [
    "hparams = {\n",
    "    \"sequence_units\": [64, 128],\n",
    "    \"structure_units\": [8, 16, 32],\n",
    "    \"concat_dense\": [32, 64],\n",
    "}\n",
    "hparams = {\n",
    "    key: hp.HParam(key, hp.Discrete(value))\n",
    "    for key, value in hparams.items()\n",
    "}\n",
    "metrics = [\n",
    "    hp.Metric(\"mae\", display_name=\"MAE\"),\n",
    "    hp.Metric(\"mse\", display_name=\"MSE\"),\n",
    "    hp.Metric(\"r2\", display_name=\"R2\"),\n",
    "]\n",
    "hp.hparams_config(\n",
    "    hparams=list(hparams.values()),\n",
    "    metrics=metrics\n",
    ")"
   ]
  },
  {
   "cell_type": "code",
   "execution_count": 9,
   "metadata": {},
   "outputs": [],
   "source": [
    "from itertools import product\n",
    "from random import shuffle\n",
    "\n",
    "def hparams_combinations(hparams):\n",
    "    hparams_values = product(*[\n",
    "        h.domain.values\n",
    "        for h in hparams.values()\n",
    "    ])\n",
    "    hparams = [\n",
    "        dict(zip(hparams.keys(), values))\n",
    "        for values in hparams_values\n",
    "    ]\n",
    "    shuffle(hparams)\n",
    "    return hparams"
   ]
  },
  {
   "cell_type": "code",
   "execution_count": 10,
   "metadata": {},
   "outputs": [],
   "source": [
    "def build_model(hparams):\n",
    "    sequence_units = hparams[\"sequence_units\"]\n",
    "    structure_units = hparams[\"structure_units\"]\n",
    "    concat_dense = hparams[\"concat_dense\"]\n",
    "    \n",
    "    input_sequence_feat = L.Input(shape=data[\"sequence_feat\"].shape[1:], name=\"sequence_feat\")\n",
    "    lstms_sequence_feat = L.LSTM(sequence_units)(input_sequence_feat)\n",
    "    \n",
    "    input_sequence_freq = L.Input(shape=data[\"sequence_freq\"].shape[1:], name=\"sequence_freq\")\n",
    "    dense_sequence_freq = L.Dense(sequence_units, activation=\"relu\")(input_sequence_freq)\n",
    "    \n",
    "    input_structure_feat = L.Input(shape=data[\"structure_feat\"].shape[1:], name=\"structure_feat\")\n",
    "    lstms_structure_feat = L.LSTM(structure_units)(input_structure_feat)\n",
    "    \n",
    "    input_structure_freq = L.Input(shape=data[\"structure_freq\"].shape[1:], name=\"structure_freq\")\n",
    "    dense_structure_freq = L.Dense(structure_units, activation=\"relu\")(input_structure_freq)\n",
    "    \n",
    "    concat = L.concatenate([\n",
    "        lstms_sequence_feat,\n",
    "        dense_sequence_freq,\n",
    "        lstms_structure_feat,\n",
    "        dense_structure_freq\n",
    "    ])\n",
    "    \n",
    "    out_dense0 = L.Dense(concat_dense)(concat)\n",
    "    out_dense1 = L.Dense(1)(out_dense0)\n",
    "    \n",
    "    model = tf.keras.Model(\n",
    "        inputs=[\n",
    "            input_sequence_feat,\n",
    "            input_sequence_freq,\n",
    "            input_structure_feat,\n",
    "            input_structure_freq\n",
    "        ],\n",
    "        outputs=[out_dense1]\n",
    "    )\n",
    "    model.compile(optimizer=\"adam\", loss=rmse, metrics=[\"mae\", \"mse\", R2])\n",
    "    return model"
   ]
  },
  {
   "cell_type": "code",
   "execution_count": 11,
   "metadata": {},
   "outputs": [],
   "source": [
    "model = build_model({\"sequence_units\": 32, \"structure_units\": 16, \"concat_dense\": 32})"
   ]
  },
  {
   "cell_type": "code",
   "execution_count": 12,
   "metadata": {},
   "outputs": [
    {
     "data": {
      "image/png": "[encoded data removed]",
      "text/plain": [
       "<IPython.core.display.Image object>"
      ]
     },
     "execution_count": 12,
     "metadata": {},
     "output_type": "execute_result"
    }
   ],
   "source": [
    "from IPython.display import Image\n",
    "tf.keras.utils.plot_model(model, to_file=\"model.png\")\n",
    "Image(\"model.png\")"
   ]
  },
  {
   "cell_type": "code",
   "execution_count": 13,
   "metadata": {},
   "outputs": [
    {
     "name": "stdout",
     "output_type": "stream",
     "text": [
      "Model: \"model\"\n",
      "__________________________________________________________________________________________________\n",
      "Layer (type)                    Output Shape         Param #     Connected to                     \n",
      "==================================================================================================\n",
      "sequence_feat (InputLayer)      [(None, 43, 23)]     0                                            \n",
      "__________________________________________________________________________________________________\n",
      "sequence_freq (InputLayer)      [(None, 19)]         0                                            \n",
      "__________________________________________________________________________________________________\n",
      "structure_feat (InputLayer)     [(None, 43, 3)]      0                                            \n",
      "__________________________________________________________________________________________________\n",
      "structure_freq (InputLayer)     [(None, 14)]         0                                            \n",
      "__________________________________________________________________________________________________\n",
      "lstm (LSTM)                     (None, 32)           7168        sequence_feat[0][0]              \n",
      "__________________________________________________________________________________________________\n",
      "dense (Dense)                   (None, 32)           640         sequence_freq[0][0]              \n",
      "__________________________________________________________________________________________________\n",
      "lstm_1 (LSTM)                   (None, 16)           1280        structure_feat[0][0]             \n",
      "__________________________________________________________________________________________________\n",
      "dense_1 (Dense)                 (None, 16)           240         structure_freq[0][0]             \n",
      "__________________________________________________________________________________________________\n",
      "concatenate (Concatenate)       (None, 96)           0           lstm[0][0]                       \n",
      "                                                                 dense[0][0]                      \n",
      "                                                                 lstm_1[0][0]                     \n",
      "                                                                 dense_1[0][0]                    \n",
      "__________________________________________________________________________________________________\n",
      "dense_2 (Dense)                 (None, 32)           3104        concatenate[0][0]                \n",
      "__________________________________________________________________________________________________\n",
      "dense_3 (Dense)                 (None, 1)            33          dense_2[0][0]                    \n",
      "==================================================================================================\n",
      "Total params: 12,465\n",
      "Trainable params: 12,465\n",
      "Non-trainable params: 0\n",
      "__________________________________________________________________________________________________\n"
     ]
    }
   ],
   "source": [
    "model.summary()"
   ]
  },
  {
   "cell_type": "code",
   "execution_count": 14,
   "metadata": {},
   "outputs": [],
   "source": [
    "early_stop = tf.keras.callbacks.EarlyStopping(patience=20)"
   ]
  },
  {
   "cell_type": "code",
   "execution_count": 15,
   "metadata": {},
   "outputs": [],
   "source": [
    "index = np.arange(len(data[\"score\"]))\n",
    "train_index, test_index = train_test_split(index, test_size=0.30, random_state=42)\n",
    "train_index, val_index = train_test_split(train_index, test_size=0.10, random_state=42)\n",
    "X_train = [data[i.name][train_index] for i in model.inputs]\n",
    "X_test = [data[i.name][test_index] for i in model.inputs]\n",
    "X_val = [data[i.name][val_index] for i in model.inputs]\n",
    "y_train, y_test, y_val = data[\"score\"][train_index], data[\"score\"][test_index],  data[\"score\"][val_index]"
   ]
  },
  {
   "cell_type": "code",
   "execution_count": null,
   "metadata": {},
   "outputs": [
    {
     "name": "stderr",
     "output_type": "stream",
     "text": [
      " 42%|████▏     | 5/12 [15:28<20:49, 178.43s/it]"
     ]
    }
   ],
   "source": [
    "path = \"./board\"\n",
    "for i, h in enumerate(tqdm(hparams_combinations(hparams))):\n",
    "    logs = os.path.join(path, f\"run-{i}\")\n",
    "    os.makedirs(logs)\n",
    "    with tf.summary.create_file_writer(logs).as_default():\n",
    "        hp.hparams(h)\n",
    "        model = build_model(h)\n",
    "        model.fit(\n",
    "            X_train,\n",
    "            y_train,\n",
    "            epochs=int(1e3),\n",
    "            batch_size=32,\n",
    "            shuffle=True,\n",
    "            validation_data=(X_val, y_val),\n",
    "            callbacks=[early_stop],\n",
    "            verbose=0\n",
    "        )\n",
    "        loss, mae, mse, r2 = model.evaluate(X_test, y_test, verbose=0)\n",
    "        tf.summary.scalar(\"loss\", loss, step=i)\n",
    "        tf.summary.scalar(\"mae\", mae, step=i)\n",
    "        tf.summary.scalar(\"mse\", mse, step=i)\n",
    "        tf.summary.scalar(\"r2\", r2, step=i)"
   ]
  },
  {
   "cell_type": "code",
   "execution_count": null,
   "metadata": {},
   "outputs": [],
   "source": [
    "parameters = {\"sequence_units\": 64, \"structure_units\": 16}"
   ]
  },
  {
   "cell_type": "code",
   "execution_count": null,
   "metadata": {},
   "outputs": [],
   "source": [
    "model = build_model(parameters)\n",
    "X_train = [data[i.name] for i in model.inputs]\n",
    "y_train = data[\"score\"]\n",
    "history = model.fit(\n",
    "    X_train,\n",
    "    y_train,\n",
    "    epochs=200,\n",
    "    batch_size=32,\n",
    "    shuffle=True,\n",
    "    validation_split=0.1,\n",
    "    callbacks=[early_stop],\n",
    "    verbose=1\n",
    ")"
   ]
  },
  {
   "cell_type": "code",
   "execution_count": null,
   "metadata": {},
   "outputs": [],
   "source": [
    "model.save(\"model.h5\")"
   ]
  },
  {
   "cell_type": "code",
   "execution_count": null,
   "metadata": {},
   "outputs": [],
   "source": [
    "_ = pd.DataFrame(history.history).plot(subplots=True, figsize=(10, 8))"
   ]
  },
  {
   "cell_type": "code",
   "execution_count": null,
   "metadata": {},
   "outputs": [],
   "source": [
    "test = dict(np.load(\"./data/data_single_test.npz\"))\n",
    "X_test = [test[i.name] for i in model.inputs]\n",
    "y_test = test[\"score\"]\n",
    "evaluate = pd.DataFrame([y_test, model.predict(X_test).squeeze()], index=[\"target\", \"predicted\"]).T\n",
    "evaluate.corr()"
   ]
  },
  {
   "cell_type": "code",
   "execution_count": null,
   "metadata": {},
   "outputs": [],
   "source": [
    "_ = evaluate.plot.scatter(\"target\", \"predicted\")"
   ]
  },
  {
   "cell_type": "code",
   "execution_count": null,
   "metadata": {},
   "outputs": [],
   "source": [
    "data = dict(np.load(\"./data/data_multi_train.npz\"))"
   ]
  },
  {
   "cell_type": "code",
   "execution_count": null,
   "metadata": {},
   "outputs": [],
   "source": [
    "model = build_model(parameters)\n",
    "X_train = [data[i.name] for i in model.inputs]\n",
    "y_train = data[\"score\"]\n",
    "history = model.fit(\n",
    "    X_train,\n",
    "    y_train,\n",
    "    epochs=200,\n",
    "    batch_size=64,\n",
    "    shuffle=True,\n",
    "    validation_split=0.1,\n",
    "    callbacks=[early_stop],\n",
    "    verbose=1\n",
    ")"
   ]
  },
  {
   "cell_type": "code",
   "execution_count": null,
   "metadata": {},
   "outputs": [],
   "source": [
    "test = dict(np.load(\"./data/data_multi_test.npz\"))\n",
    "X_test = [test[i.name] for i in model.inputs]\n",
    "y_test = test[\"score\"]\n",
    "evaluate = pd.DataFrame([y_test, model.predict(X_test).squeeze()], index=[\"target\", \"predicted\"]).T\n",
    "evaluate.corr()"
   ]
  },
  {
   "cell_type": "code",
   "execution_count": null,
   "metadata": {},
   "outputs": [],
   "source": [
    "_ = evaluate.plot.scatter(\"target\", \"predicted\")"
   ]
  },
  {
   "cell_type": "code",
   "execution_count": null,
   "metadata": {},
   "outputs": [],
   "source": []
  }
 ],
 "metadata": {
  "kernelspec": {
   "display_name": "Python 3",
   "language": "python",
   "name": "python3"
  },
  "language_info": {
   "codemirror_mode": {
    "name": "ipython",
    "version": 3
   },
   "file_extension": ".py",
   "mimetype": "text/x-python",
   "name": "python",
   "nbconvert_exporter": "python",
   "pygments_lexer": "ipython3",
   "version": "3.8.5"
  }
 },
 "nbformat": 4,
 "nbformat_minor": 4
}
